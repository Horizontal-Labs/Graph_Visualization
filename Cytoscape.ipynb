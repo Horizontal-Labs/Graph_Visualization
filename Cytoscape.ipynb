{
  "nbformat": 4,
  "nbformat_minor": 0,
  "metadata": {
    "colab": {
      "provenance": []
    },
    "kernelspec": {
      "name": "python3",
      "display_name": "Python 3"
    },
    "language_info": {
      "name": "python"
    }
  },
  "cells": [
    {
      "cell_type": "code",
      "execution_count": 18,
      "metadata": {
        "id": "cTArjll8VkFo"
      },
      "outputs": [],
      "source": [
        "from typing import Dict, Any\n",
        "from collections import defaultdict\n",
        "\n",
        "def convert_to_cytoscape_format(linking_output: Dict[str, Any]) -> Dict[str, Any]:\n",
        "    nodes_seen = set()\n",
        "    nodes = []\n",
        "    edges = []\n",
        "\n",
        "    for item in linking_output[\"linked_premises\"]:\n",
        "        premise = item[\"premise_text\"]\n",
        "        claim = item[\"linked_claim_text\"]\n",
        "        stance = item[\"stance\"]\n",
        "\n",
        "        if claim is None:\n",
        "            continue  # Skip unlinked premises\n",
        "\n",
        "        # Add premise node (if not already added)\n",
        "        if premise not in nodes_seen:\n",
        "            nodes.append({\n",
        "                \"data\": {\n",
        "                    \"id\": premise,\n",
        "                    \"type\": \"premise\",\n",
        "                    \"stance\": stance\n",
        "                }\n",
        "            })\n",
        "            nodes_seen.add(premise)\n",
        "\n",
        "        # Add claim node (if not already added)\n",
        "        if claim not in nodes_seen:\n",
        "            nodes.append({\n",
        "                \"data\": {\n",
        "                    \"id\": claim,\n",
        "                    \"type\": \"claim\",\n",
        "                    \"stance\": \"neutral\"\n",
        "                }\n",
        "            })\n",
        "            nodes_seen.add(claim)\n",
        "\n",
        "        # Add edge from premise to claim\n",
        "        edges.append({\n",
        "            \"data\": {\n",
        "                \"source\": premise,\n",
        "                \"target\": claim,\n",
        "                \"label\": stance\n",
        "            }\n",
        "        })\n",
        "\n",
        "    return {\"nodes\": nodes, \"edges\": edges}\n"
      ]
    },
    {
      "cell_type": "code",
      "source": [
        "!wget https://raw.githubusercontent.com/Horizontal-Labs/synapse-sparks/refs/heads/main/output.json -O output.json"
      ],
      "metadata": {
        "colab": {
          "base_uri": "https://localhost:8080/"
        },
        "id": "w5qqvAoZhjMO",
        "outputId": "81b0133d-0c05-4902-93d1-993455401f5a"
      },
      "execution_count": 26,
      "outputs": [
        {
          "output_type": "stream",
          "name": "stdout",
          "text": [
            "--2025-07-04 22:47:41--  https://raw.githubusercontent.com/Horizontal-Labs/synapse-sparks/refs/heads/main/output.json\n",
            "Resolving raw.githubusercontent.com (raw.githubusercontent.com)... 185.199.108.133, 185.199.109.133, 185.199.110.133, ...\n",
            "Connecting to raw.githubusercontent.com (raw.githubusercontent.com)|185.199.108.133|:443... connected.\n",
            "HTTP request sent, awaiting response... 200 OK\n",
            "Length: 1133 (1.1K) [text/plain]\n",
            "Saving to: ‘output.json’\n",
            "\n",
            "\routput.json           0%[                    ]       0  --.-KB/s               \routput.json         100%[===================>]   1.11K  --.-KB/s    in 0s      \n",
            "\n",
            "2025-07-04 22:47:41 (36.5 MB/s) - ‘output.json’ saved [1133/1133]\n",
            "\n"
          ]
        }
      ]
    },
    {
      "cell_type": "code",
      "source": [
        "import json\n",
        "\n",
        "with open(\"output.json\") as f:\n",
        "    linked_dict = json.load(f)\n",
        "\n",
        "# The same converter you've used before\n",
        "def convert_to_cytoscape_format(linking_output):\n",
        "    nodes = []\n",
        "    edges = []\n",
        "    nodes_seen = set()\n",
        "\n",
        "    for item in linking_output[\"linked_premises\"]:\n",
        "        premise = item[\"premise_text\"]\n",
        "        claim = item[\"linked_claim_text\"]\n",
        "        stance = item[\"stance\"]\n",
        "\n",
        "        if claim is None:\n",
        "            continue  # Skip unlinked premises\n",
        "\n",
        "        if premise not in nodes_seen:\n",
        "            nodes.append({\n",
        "                \"data\": {\n",
        "                    \"id\": premise,\n",
        "                    \"type\": \"premise\",\n",
        "                    \"stance\": stance\n",
        "                }\n",
        "            })\n",
        "            nodes_seen.add(premise)\n",
        "\n",
        "        if claim not in nodes_seen:\n",
        "            nodes.append({\n",
        "                \"data\": {\n",
        "                    \"id\": claim,\n",
        "                    \"type\": \"claim\",\n",
        "                    \"stance\": \"neutral\"\n",
        "                }\n",
        "            })\n",
        "            nodes_seen.add(claim)\n",
        "\n",
        "        edges.append({\n",
        "            \"data\": {\n",
        "                \"source\": premise,\n",
        "                \"target\": claim,\n",
        "                \"label\": stance\n",
        "            }\n",
        "        })\n",
        "\n",
        "    return {\"nodes\": nodes, \"edges\": edges}\n",
        "\n",
        "cytoscape_data = convert_to_cytoscape_format(linked_dict)\n"
      ],
      "metadata": {
        "id": "YKk4EDdJm3Q5"
      },
      "execution_count": 28,
      "outputs": []
    },
    {
      "cell_type": "code",
      "source": [
        "html_template = f\"\"\"\n",
        "<!DOCTYPE html>\n",
        "<html>\n",
        "<head>\n",
        "  <meta charset=\"utf-8\">\n",
        "  <title>Argument Graph</title>\n",
        "  <script src=\"https://unpkg.com/cytoscape@3.21.1/dist/cytoscape.min.js\"></script>\n",
        "  <style>\n",
        "    #cy {{\n",
        "      width: 100%;\n",
        "      height: 95vh;\n",
        "      display: block;\n",
        "      border: 1px solid #ccc;\n",
        "    }}\n",
        "  </style>\n",
        "</head>\n",
        "<body>\n",
        "  <h2 style=\"text-align:center;\">Argument Graph (Claims and Premises)</h2>\n",
        "  <div id=\"cy\"></div>\n",
        "\n",
        "  <script>\n",
        "    const data = {json.dumps(cytoscape_data, indent=2)};\n",
        "\n",
        "    const stanceColor = {{\n",
        "      pro: '#4CAF50',\n",
        "      con: '#F44336',\n",
        "      neutral: '#2196F3'\n",
        "    }};\n",
        "\n",
        "    const cy = cytoscape({{\n",
        "      container: document.getElementById('cy'),\n",
        "      elements: data,\n",
        "      style: [\n",
        "        {{\n",
        "          selector: 'node',\n",
        "          style: {{\n",
        "            'background-color': function(ele) {{ return stanceColor[ele.data('stance')]; }},\n",
        "            'label': 'data(id)',\n",
        "            'shape': function(ele) {{ return ele.data('type') === 'claim' ? 'ellipse' : 'roundrectangle'; }},\n",
        "            'text-wrap': 'wrap',\n",
        "            'text-max-width': 200,\n",
        "            'text-valign': 'center',\n",
        "            'text-halign': 'center',\n",
        "            'font-size': 14,\n",
        "            'color': '#fff',\n",
        "            'text-outline-width': 2,\n",
        "            'text-outline-color': '#333',\n",
        "            'padding': '10px',\n",
        "            'width': function(ele) {{ return Math.max(100, ele.data('id').length * 6); }},\n",
        "            'height': function(ele) {{\n",
        "              const lines = Math.ceil(ele.data('id').length / 25);\n",
        "              return lines * 25;\n",
        "            }}\n",
        "          }}\n",
        "        }},\n",
        "        {{\n",
        "          selector: 'edge',\n",
        "          style: {{\n",
        "            'curve-style': 'bezier',\n",
        "            'target-arrow-shape': 'triangle',\n",
        "            'line-color': function(ele) {{ return stanceColor[ele.data('label')]; }},\n",
        "            'target-arrow-color': function(ele) {{ return stanceColor[ele.data('label')]; }},\n",
        "            'label': 'data(label)',\n",
        "            'font-size': 11,\n",
        "            'color': '#000',\n",
        "            'text-wrap': 'wrap',\n",
        "            'text-background-opacity': 1,\n",
        "            'text-background-color': '#fff',\n",
        "            'text-background-padding': '4px',\n",
        "            'text-margin-y': -5\n",
        "          }}\n",
        "        }}\n",
        "      ],\n",
        "      layout: {{\n",
        "        name: 'cose',\n",
        "        padding: 30\n",
        "      }}\n",
        "    }});\n",
        "  </script>\n",
        "</body>\n",
        "</html>\n",
        "\"\"\"\n",
        "\n",
        "# Save the HTML to file\n",
        "with open(\"graph.html\", \"w\") as f:\n",
        "    f.write(html_template)\n"
      ],
      "metadata": {
        "id": "dkhGyRo3XMNA"
      },
      "execution_count": 29,
      "outputs": []
    },
    {
      "cell_type": "code",
      "source": [
        "from google.colab import files\n",
        "files.download(\"graph.html\")\n"
      ],
      "metadata": {
        "colab": {
          "base_uri": "https://localhost:8080/",
          "height": 17
        },
        "id": "TTh3hyMxXRQ9",
        "outputId": "93fe9f21-0bf4-4f84-ec87-fd3dac8306f6"
      },
      "execution_count": 30,
      "outputs": [
        {
          "output_type": "display_data",
          "data": {
            "text/plain": [
              "<IPython.core.display.Javascript object>"
            ],
            "application/javascript": [
              "\n",
              "    async function download(id, filename, size) {\n",
              "      if (!google.colab.kernel.accessAllowed) {\n",
              "        return;\n",
              "      }\n",
              "      const div = document.createElement('div');\n",
              "      const label = document.createElement('label');\n",
              "      label.textContent = `Downloading \"${filename}\": `;\n",
              "      div.appendChild(label);\n",
              "      const progress = document.createElement('progress');\n",
              "      progress.max = size;\n",
              "      div.appendChild(progress);\n",
              "      document.body.appendChild(div);\n",
              "\n",
              "      const buffers = [];\n",
              "      let downloaded = 0;\n",
              "\n",
              "      const channel = await google.colab.kernel.comms.open(id);\n",
              "      // Send a message to notify the kernel that we're ready.\n",
              "      channel.send({})\n",
              "\n",
              "      for await (const message of channel.messages) {\n",
              "        // Send a message to notify the kernel that we're ready.\n",
              "        channel.send({})\n",
              "        if (message.buffers) {\n",
              "          for (const buffer of message.buffers) {\n",
              "            buffers.push(buffer);\n",
              "            downloaded += buffer.byteLength;\n",
              "            progress.value = downloaded;\n",
              "          }\n",
              "        }\n",
              "      }\n",
              "      const blob = new Blob(buffers, {type: 'application/binary'});\n",
              "      const a = document.createElement('a');\n",
              "      a.href = window.URL.createObjectURL(blob);\n",
              "      a.download = filename;\n",
              "      div.appendChild(a);\n",
              "      a.click();\n",
              "      div.remove();\n",
              "    }\n",
              "  "
            ]
          },
          "metadata": {}
        },
        {
          "output_type": "display_data",
          "data": {
            "text/plain": [
              "<IPython.core.display.Javascript object>"
            ],
            "application/javascript": [
              "download(\"download_3f5cba9c-9569-4f17-a786-f76fe15e006b\", \"graph.html\", 4568)"
            ]
          },
          "metadata": {}
        }
      ]
    }
  ]
}